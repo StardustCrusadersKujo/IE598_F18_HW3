{
 "cells": [
  {
   "cell_type": "code",
   "execution_count": 2,
   "metadata": {},
   "outputs": [
    {
     "name": "stdout",
     "output_type": "stream",
     "text": [
      "The scikit learn version is 0.21.2.\n",
      "       CUSIP  Ticker  Issue Date    Maturity 1st Call Date Moodys S_and_P  \\\n",
      "0  000324AA1  FLECIN    7/1/2014    7/1/2019    10/23/2017    Nan     Nan   \n",
      "1  00080QAB1     RBS   3/15/2004    6/4/2018           Nan    Ba1     BB+   \n",
      "2  00081TAD0    ACCO   5/14/2010   3/15/2015           Nan     WR      NR   \n",
      "3  00081TAH1    ACCO   6/17/2013   4/30/2020           Nan     WR      NR   \n",
      "4  00081TAJ7    ACCO  12/22/2016  12/15/2024    12/15/2019     B1     BB-   \n",
      "\n",
      "  Fitch Bloomberg Composite Rating  Coupon  ...  percent_intra_dealer  \\\n",
      "0   Nan                        Nan   12.00  ...              0.006645   \n",
      "1   BBB                        BB+    4.65  ...              0.425018   \n",
      "2   BB+                         NR   10.63  ...              0.115207   \n",
      "3    WD                         NR    6.75  ...              0.426332   \n",
      "4    BB                        BB-    5.25  ...              0.157216   \n",
      "\n",
      "  percent_uncapped bond_type  Client_Trade_Percentage weekly_mean_volume  \\\n",
      "0         0.292359         5                 0.521595        3105926.765   \n",
      "1         0.974071         2                 0.337071        1721696.774   \n",
      "2         0.594470         5                 0.467742        4200313.433   \n",
      "3         0.892462         3                 0.212864        6321559.783   \n",
      "4         0.690722         5                 0.500000        5936714.286   \n",
      "\n",
      "   weekly_median_volume weekly_max_volume weekly_min_volume  \\\n",
      "0             2000000.0        18980000.0           60000.0   \n",
      "1             1160000.0        11197000.0            5000.0   \n",
      "2             3520000.0        14000000.0           24000.0   \n",
      "3             5487500.0        18459000.0           30000.0   \n",
      "4             3305500.0        72760000.0           90000.0   \n",
      "\n",
      "  weekly_mean_ntrades weekly_median_ntrades  \n",
      "0            3.541176                     1  \n",
      "1           18.412903                     3  \n",
      "2            6.477612                     1  \n",
      "3           27.038043                     1  \n",
      "4            9.238095                     1  \n",
      "\n",
      "[5 rows x 37 columns]\n",
      "          CUSIP  Ticker Issue Date    Maturity 1st Call Date Moodys S_and_P  \\\n",
      "2716  629377CC4     NRG  4/18/2017   1/15/2027     7/15/2021     B1     BB-   \n",
      "2717  62940QAA3  NSGHLD  3/14/2007  12/15/2025           Nan    Ba1     BB+   \n",
      "2718  62941FAH1    VMED  7/25/2006   8/15/2016           Nan     WR      NR   \n",
      "2719  62943WAA7    NYLD   8/5/2014   8/15/2024           Nan    Ba2      BB   \n",
      "2720  62943WAB5    NYLD  7/21/2015   8/15/2024     8/15/2019    Ba2      BB   \n",
      "\n",
      "     Fitch Bloomberg Composite Rating  Coupon  ...  percent_intra_dealer  \\\n",
      "2716   Nan                         B+    6.63  ...              0.376000   \n",
      "2717   Nan                        BB+    7.75  ...              0.024540   \n",
      "2718   BB+                         NR    9.13  ...              0.193798   \n",
      "2719   Nan                         BB    5.38  ...              0.063197   \n",
      "2720   Nan                         BB    5.38  ...              0.241427   \n",
      "\n",
      "     percent_uncapped bond_type  Client_Trade_Percentage weekly_mean_volume  \\\n",
      "2716         0.708571         1                 0.243429       1.673926e+07   \n",
      "2717         0.699387         5                 0.460123       1.787675e+06   \n",
      "2718         0.527132         5                 0.449612       6.440966e+06   \n",
      "2719         0.605948         3                 0.434944       3.923217e+06   \n",
      "2720         0.766118         3                 0.387517       6.107044e+06   \n",
      "\n",
      "      weekly_median_volume weekly_max_volume weekly_min_volume  \\\n",
      "2716           13167000.00        65036000.0        1475000.00   \n",
      "2717             937286.96        12500000.0          93728.69   \n",
      "2718            5468000.00        18280000.0        1000000.00   \n",
      "2719            3022500.00        16100000.0          25000.00   \n",
      "2720            4768000.00        28475000.0         250000.00   \n",
      "\n",
      "     weekly_mean_ntrades weekly_median_ntrades  \n",
      "2716           38.043478                     4  \n",
      "2717            3.075472                     1  \n",
      "2718            8.896552                     1  \n",
      "2719            5.847826                     1  \n",
      "2720           12.902655                     1  \n",
      "\n",
      "[5 rows x 37 columns]\n",
      "            Coupon  Issued Amount  Maturity At Issue months  LiquidityScore  \\\n",
      "count  2721.000000   2.721000e+03               2721.000000     2721.000000   \n",
      "mean     10.307872   8.299295e+08                113.968997       18.218230   \n",
      "std      63.051382   5.802790e+08                101.893176        7.872071   \n",
      "min       0.000000   3.700000e+08                 11.930000        4.388758   \n",
      "25%       5.000000   5.000000e+08                 65.170000       12.738630   \n",
      "50%       6.250000   6.500000e+08                 97.370000       16.538471   \n",
      "75%       7.750000   1.000000e+09                121.770000       22.120108   \n",
      "max     999.000000   7.364026e+09               1217.570000       54.673908   \n",
      "\n",
      "         LIQ SCORE      n_trades  volume_trades  total_median_size  \\\n",
      "count  2721.000000   2721.000000   2.721000e+03       2.721000e+03   \n",
      "mean      0.182182   2700.696435   7.222372e+08       5.361476e+05   \n",
      "std       0.078721   5572.262205   1.027825e+09       4.193546e+05   \n",
      "min       0.043888      1.000000   7.000000e+03       4.000000e+03   \n",
      "25%       0.127386    116.000000   6.189000e+07       7.500000e+04   \n",
      "50%       0.165385    674.000000   3.480000e+08       5.000000e+05   \n",
      "75%       0.221201   2467.000000   9.328420e+08       1.000000e+06   \n",
      "max       0.546739  57935.000000   8.979960e+09       3.400000e+06   \n",
      "\n",
      "       total_mean_size  n_days_trade  ...  percent_intra_dealer  \\\n",
      "count     2.721000e+03   2721.000000  ...           2721.000000   \n",
      "mean      5.255853e+05    316.581771  ...              0.244306   \n",
      "std       2.670677e+05    347.802629  ...              0.152165   \n",
      "min       5.000000e+03      1.000000  ...              0.000000   \n",
      "25%       3.010473e+05     45.000000  ...              0.124731   \n",
      "50%       5.769231e+05    184.000000  ...              0.250000   \n",
      "75%       7.289650e+05    483.000000  ...              0.356808   \n",
      "max       3.400000e+06   1667.000000  ...              1.000000   \n",
      "\n",
      "       percent_uncapped    bond_type  Client_Trade_Percentage  \\\n",
      "count       2721.000000  2721.000000              2721.000000   \n",
      "mean           0.676536     3.496141                 0.379648   \n",
      "std            0.219661     1.712004                 0.144545   \n",
      "min            0.000000     1.000000                 0.000000   \n",
      "25%            0.534224     1.000000                 0.290826   \n",
      "50%            0.681992     5.000000                 0.376385   \n",
      "75%            0.859256     5.000000                 0.448718   \n",
      "max            1.000000     5.000000                 1.000000   \n",
      "\n",
      "       weekly_mean_volume  weekly_median_volume  weekly_max_volume  \\\n",
      "count        2.721000e+03          2.721000e+03       2.721000e+03   \n",
      "mean         7.588325e+06          5.672609e+06       4.915523e+07   \n",
      "std          8.979311e+06          7.340321e+06       6.703860e+07   \n",
      "min          7.000000e+03          7.000000e+03       7.000000e+03   \n",
      "25%          2.295273e+06          1.750000e+06       9.020000e+06   \n",
      "50%          4.926339e+06          3.527000e+06       2.410000e+07   \n",
      "75%          9.649299e+06          7.011000e+06       6.370500e+07   \n",
      "max          1.179500e+08          1.179500e+08       8.728140e+08   \n",
      "\n",
      "       weekly_min_volume  weekly_mean_ntrades  weekly_median_ntrades  \n",
      "count       2.721000e+03          2721.000000            2721.000000  \n",
      "mean        6.690499e+05            21.598988               2.471885  \n",
      "std         3.094537e+06            32.901129               5.581749  \n",
      "min         1.400000e+01             1.000000               1.000000  \n",
      "25%         2.100000e+04             4.046154               1.000000  \n",
      "50%         1.060000e+05            10.821429               1.000000  \n",
      "75%         4.300000e+05            24.526316               2.000000  \n",
      "max         1.002500e+08           513.769231             160.000000  \n",
      "\n",
      "[8 rows x 21 columns]\n"
     ]
    }
   ],
   "source": [
    "import sklearn\n",
    "import sys\n",
    "import numpy as np\n",
    "from sklearn.neighbors import KNeighborsClassifier\n",
    "import pandas as pd\n",
    "import matplotlib.pyplot as plot\n",
    "print( 'The scikit learn version is {}.'.format(sklearn.__version__))\n",
    "df = pd.read_csv('HYB.csv')\n",
    "data = df.dropna()\n",
    "print (data.head())\n",
    "print (data.tail())\n",
    "print(data.describe())\n",
    "\n",
    "\n",
    "\n",
    "\n"
   ]
  },
  {
   "cell_type": "code",
   "execution_count": 3,
   "metadata": {},
   "outputs": [
    {
     "name": "stdout",
     "output_type": "stream",
     "text": [
      "Number of Rows of Data = 2721\n",
      "Number of Columns of Data = 37"
     ]
    }
   ],
   "source": [
    "xList = []\n",
    "labels = []\n",
    "for line in data:\n",
    "    #split on comma\n",
    "    row = data[line]\n",
    "    xList.append(row)\n",
    "sys.stdout.write(\"Number of Rows of Data = \" + str(len(xList[1])) + '\\n')\n",
    "sys.stdout.write(\"Number of Columns of Data = \" + str(len(xList)))"
   ]
  },
  {
   "cell_type": "code",
   "execution_count": 4,
   "metadata": {},
   "outputs": [
    {
     "name": "stdout",
     "output_type": "stream",
     "text": [
      "Col#\tNumber\tStrings\t Other\n",
      "0\t0\t2721\t0\n",
      "1\t0\t2721\t0\n",
      "2\t0\t2721\t0\n",
      "3\t0\t2721\t0\n",
      "4\t1757\t964\t0\n",
      "5\t161\t2560\t0\n",
      "6\t186\t2535\t0\n",
      "7\t1170\t1551\t0\n",
      "8\t41\t2680\t0\n",
      "9\t2721\t0\t0\n",
      "10\t2721\t0\t0\n",
      "11\t0\t2721\t0\n",
      "12\t0\t2721\t0\n",
      "13\t2721\t0\t0\n",
      "14\t0\t2721\t0\n",
      "15\t2721\t0\t0\n",
      "16\t2721\t0\t0\n",
      "17\t2721\t0\t0\n",
      "18\t2721\t0\t0\n",
      "19\t0\t2721\t0\n",
      "20\t2721\t0\t0\n",
      "21\t2721\t0\t0\n",
      "22\t2721\t0\t0\n",
      "23\t2721\t0\t0\n",
      "24\t2721\t0\t0\n",
      "25\t2721\t0\t0\n",
      "26\t2721\t0\t0\n",
      "27\t2721\t0\t0\n",
      "28\t2721\t0\t0\n",
      "29\t2721\t0\t0\n",
      "30\t2721\t0\t0\n",
      "31\t2721\t0\t0\n",
      "32\t2721\t0\t0\n",
      "33\t2721\t0\t0\n",
      "34\t2721\t0\t0\n",
      "35\t2721\t0\t0\n",
      "36\t2721\t0\t0\n"
     ]
    }
   ],
   "source": [
    "xList = []\n",
    "labels = []\n",
    "for line in data:\n",
    "    #split on comma\n",
    "    row = data[line]\n",
    "    xList.append(row)\n",
    "nrow = len(xList[1])\n",
    "ncol = len(xList)\n",
    "type = [0]*3\n",
    "colCounts = []\n",
    "for col in xList:\n",
    "    for row in range(nrow):\n",
    "        try:\n",
    "            a = float(col[row])\n",
    "            if isinstance(a, float):\n",
    "                type[0] += 1\n",
    "        except ValueError:\n",
    "            if len(col[row]) > 0:\n",
    "                type[1] += 1\n",
    "            else:\n",
    "                type[2] += 1\n",
    "    colCounts.append(type)\n",
    "    type = [0]*3\n",
    "    \n",
    "sys.stdout.write(\"Col#\" + '\\t' + \"Number\" + '\\t' +\n",
    "                 \"Strings\" + '\\t ' + \"Other\\n\")\n",
    "iCol = 0\n",
    "for types in colCounts:\n",
    "    sys.stdout.write(str(iCol) + '\\t' + str(types[0]) + '\\t' +\n",
    "                     str(types[1]) + '\\t' + str(types[2]) + \"\\n\")\n",
    "    iCol += 1\n"
   ]
  },
  {
   "cell_type": "code",
   "execution_count": 5,
   "metadata": {},
   "outputs": [
    {
     "name": "stdout",
     "output_type": "stream",
     "text": [
      "   Coupon  Issued Amount  Maturity At Issue months  LiquidityScore  IN_ETF  \\\n",
      "0   12.00    405000000.0                     60.87       10.891365       0   \n",
      "1    4.65    499285000.0                    173.13       24.625486       1   \n",
      "2   10.63    460000000.0                     58.87       12.841557       0   \n",
      "3    6.75    500000000.0                     83.63       26.226355       1   \n",
      "4    5.25    400000000.0                     97.17       14.138395       0   \n",
      "\n",
      "   LIQ SCORE  n_trades  volume_trades  total_median_size  total_mean_size  \\\n",
      "0   0.108914       301   2.640038e+08          1000000.0      877088.9535   \n",
      "1   0.246255      2854   2.668630e+08            24000.0       93504.9054   \n",
      "2   0.128416       434   2.814210e+08           875000.0      648435.4839   \n",
      "3   0.262264      4975   1.163167e+09            26000.0      233802.4121   \n",
      "4   0.141384       388   2.493420e+08           750000.0      642634.0206   \n",
      "\n",
      "   ...  percent_intra_dealer  percent_uncapped  bond_type  \\\n",
      "0  ...              0.006645          0.292359          5   \n",
      "1  ...              0.425018          0.974071          2   \n",
      "2  ...              0.115207          0.594470          5   \n",
      "3  ...              0.426332          0.892462          3   \n",
      "4  ...              0.157216          0.690722          5   \n",
      "\n",
      "   Client_Trade_Percentage  weekly_mean_volume  weekly_median_volume  \\\n",
      "0                 0.521595         3105926.765             2000000.0   \n",
      "1                 0.337071         1721696.774             1160000.0   \n",
      "2                 0.467742         4200313.433             3520000.0   \n",
      "3                 0.212864         6321559.783             5487500.0   \n",
      "4                 0.500000         5936714.286             3305500.0   \n",
      "\n",
      "   weekly_max_volume  weekly_min_volume  weekly_mean_ntrades  \\\n",
      "0         18980000.0            60000.0             3.541176   \n",
      "1         11197000.0             5000.0            18.412903   \n",
      "2         14000000.0            24000.0             6.477612   \n",
      "3         18459000.0            30000.0            27.038043   \n",
      "4         72760000.0            90000.0             9.238095   \n",
      "\n",
      "   weekly_median_ntrades  \n",
      "0                      1  \n",
      "1                      3  \n",
      "2                      1  \n",
      "3                      1  \n",
      "4                      1  \n",
      "\n",
      "[5 rows x 22 columns]\n",
      "(2721, 22)\n"
     ]
    }
   ],
   "source": [
    "data = pd.read_csv('HYB.csv')\n",
    "data.drop(data.iloc[:, 0:9], inplace = True, axis = 1)\n",
    "data.drop(data.iloc[:, 2:4], inplace = True, axis = 1)\n",
    "data.drop(data.iloc[:, 3:4], inplace = True, axis = 1)\n",
    "data.drop(data.iloc[:, 4:7], inplace = True, axis = 1)\n",
    "data = data.applymap(lambda x: 1 if x == 'Yes' else x)\n",
    "data = data.applymap(lambda x: 0 if x == 'No' else x)\n",
    "#dropping all the strings and keep IN_ETF with int representation\n",
    "data.dropna()\n",
    "print (data.head())\n",
    "print (data.shape)\n",
    "           "
   ]
  },
  {
   "cell_type": "code",
   "execution_count": 6,
   "metadata": {},
   "outputs": [
    {
     "name": "stdout",
     "output_type": "stream",
     "text": [
      "Mean = \t113.96899669239251\t\tStandard Deviation = \t 101.87445117672164\n",
      "\n",
      "Boundaries for 4 Equal Percentiles \n",
      "[11.93, 65.17, 97.37, 121.77, 1217.57]\n",
      " \n",
      "Boundaries for 10 Equal Percentiles \n",
      "[11.93, 59.83, 61.0, 80.2, 87.0, 97.37, 105.2, 121.7, 121.87, 127.43, 1217.57]\n",
      " \n",
      "Unique Label Values \n",
      "{0, 1}\n",
      "\n",
      "Counts for Each Value of Categorical Label \n",
      "[0, 1]\n",
      "[1408, 1313]\n"
     ]
    }
   ],
   "source": [
    "xList = []\n",
    "labels = []\n",
    "for line in data:\n",
    "    #split on comma\n",
    "    row = data[line]\n",
    "    xList.append(row)\n",
    "nrow = len(xList[1])\n",
    "ncol = len(xList)\n",
    "type = [0]*3\n",
    "colCounts = []\n",
    "#generate summary statistics for column 3, Maturity At Issue months\n",
    "col = 2\n",
    "colData = [xList[col]]\n",
    "colArray = np.array(colData)\n",
    "colMean = np.mean(colArray)\n",
    "colsd = np.std(colArray)\n",
    "sys.stdout.write(\"Mean = \" + '\\t' + str(colMean) + '\\t\\t' +\n",
    "            \"Standard Deviation = \" + '\\t ' + str(colsd) + \"\\n\")\n",
    "#calculate quantile boundaries\n",
    "ntiles = 4\n",
    "percentBdry = []\n",
    "for i in range(ntiles+1):\n",
    "    percentBdry.append(np.percentile(colArray, i*(100)/ntiles))\n",
    "sys.stdout.write(\"\\nBoundaries for 4 Equal Percentiles \\n\")\n",
    "print(percentBdry)\n",
    "sys.stdout.write(\" \\n\")\n",
    "#run again with 10 equal intervals\n",
    "ntiles = 10\n",
    "percentBdry = []\n",
    "for i in range(ntiles+1):\n",
    "    percentBdry.append(np.percentile(colArray, i*(100)/ntiles))\n",
    "sys.stdout.write(\"Boundaries for 10 Equal Percentiles \\n\")\n",
    "print(percentBdry)\n",
    "sys.stdout.write(\" \\n\")\n",
    "#The 5th column contains categorical variables\n",
    "col = 4\n",
    "colData = xList[4]\n",
    "unique = set(colData)\n",
    "sys.stdout.write(\"Unique Label Values \\n\")\n",
    "print(unique)\n",
    "#count up the number of elements having each value\n",
    "catDict = dict(zip(list(unique),range(len(unique))))\n",
    "catCount = [0]*2\n",
    "for elt in colData:\n",
    "    catCount[catDict[elt]] += 1\n",
    "sys.stdout.write(\"\\nCounts for Each Value of Categorical Label \\n\")\n",
    "print(list(unique))\n",
    "print(catCount)\n"
   ]
  },
  {
   "cell_type": "code",
   "execution_count": 7,
   "metadata": {},
   "outputs": [
    {
     "data": {
      "image/png": "[encoded data removed]",
      "text/plain": [
       "<Figure size 432x288 with 1 Axes>"
      ]
     },
     "metadata": {
      "needs_background": "light"
     },
     "output_type": "display_data"
    }
   ],
   "source": [
    "import scipy\n",
    "import pylab\n",
    "xList = []\n",
    "labels = []\n",
    "for line in data:\n",
    "    #split on comma\n",
    "    row = data[line]\n",
    "    xList.append(row)\n",
    "nrow = len(xList[1])\n",
    "ncol = len(xList)\n",
    "type = [0]*3\n",
    "colCounts = []\n",
    "#generate summary statistics for column 3 (e.g.)\n",
    "col = 2\n",
    "colData = []\n",
    "for row in xList[2]:\n",
    "    colData.append(float(row))\n",
    "scipy.stats.probplot(colData, dist=\"norm\", plot=pylab)\n",
    "pylab.show()"
   ]
  },
  {
   "cell_type": "code",
   "execution_count": 10,
   "metadata": {},
   "outputs": [
    {
     "data": {
      "image/png": "[encoded data removed]",
      "text/plain": [
       "<Figure size 432x288 with 1 Axes>"
      ]
     },
     "metadata": {
      "needs_background": "light"
     },
     "output_type": "display_data"
    }
   ],
   "source": [
    "for i in range(2720):\n",
    "\n",
    "    dataRow = data.iloc[i,0:22]\n",
    "    dataRow.plot()\n",
    "plot.xlabel(\"Attribute Index\")\n",
    "plot.ylabel((\"Attribute Values\"))\n",
    "plot.show()"
   ]
  },
  {
   "cell_type": "code",
   "execution_count": 11,
   "metadata": {},
   "outputs": [
    {
     "data": {
      "image/png": "[encoded data removed]",
      "text/plain": [
       "<Figure size 432x288 with 1 Axes>"
      ]
     },
     "metadata": {
      "needs_background": "light"
     },
     "output_type": "display_data"
    }
   ],
   "source": [
    "from pandas import DataFrame\n",
    "corMat = DataFrame(data.corr())\n",
    "#visualize correlations using heatmap\n",
    "plot.pcolor(corMat)\n",
    "plot.show()"
   ]
  },
  {
   "cell_type": "code",
   "execution_count": 12,
   "metadata": {},
   "outputs": [
    {
     "data": {
      "image/png": "[encoded data removed]",
      "text/plain": [
       "<Figure size 432x288 with 1 Axes>"
      ]
     },
     "metadata": {
      "needs_background": "light"
     },
     "output_type": "display_data"
    },
    {
     "data": {
      "image/png": "[encoded data removed]",
      "text/plain": [
       "<Figure size 432x288 with 1 Axes>"
      ]
     },
     "metadata": {
      "needs_background": "light"
     },
     "output_type": "display_data"
    }
   ],
   "source": [
    "dataRow2 = data.iloc[1,0:22]\n",
    "dataRow3 = data.iloc[2,0:22]\n",
    "plot.scatter(dataRow2, dataRow3)\n",
    "plot.xlabel(\"2nd Attribute\")\n",
    "plot.ylabel((\"3rd Attribute\"))\n",
    "plot.show()\n",
    "dataRow21 = data.iloc[1,0:22]\n",
    "plot.scatter(dataRow2, dataRow21)\n",
    "plot.xlabel(\"2nd Attribute\")\n",
    "plot.ylabel((\"22st Attribute\"))\n",
    "plot.show()"
   ]
  },
  {
   "cell_type": "code",
   "execution_count": 13,
   "metadata": {},
   "outputs": [
    {
     "name": "stdout",
     "output_type": "stream",
     "text": [
      "Correlation between attribute 10 and 12 \n",
      "0.9630036608966975\n",
      " \n",
      "Correlation between attribute 12 and 22 \n",
      "0.9998576932667128\n",
      " \n"
     ]
    }
   ],
   "source": [
    "dataRow2 = data.iloc[10,0:22]\n",
    "dataRow3 = data.iloc[12,0:22]\n",
    "dataRow21 = data.iloc[20,0:22]\n",
    "mean2 = 0.0; mean3 = 0.0; mean21 = 0.0\n",
    "numElt = len(dataRow2)\n",
    "for i in range(numElt):\n",
    "    mean2 += dataRow2[i]/numElt\n",
    "    mean3 += dataRow3[i]/numElt\n",
    "    mean21 += dataRow21[i]/numElt\n",
    "var2 = 0.0; var3 = 0.0; var21 = 0.0\n",
    "for i in range(numElt):\n",
    "    var2 += (dataRow2[i] - mean2) * (dataRow2[i] - mean2)/numElt\n",
    "    var3 += (dataRow3[i] - mean3) * (dataRow3[i] - mean3)/numElt\n",
    "    var21 += (dataRow21[i] - mean21) * (dataRow21[i] - mean21)/numElt\n",
    "corr23 = 0.0; corr221 = 0.0\n",
    "for i in range(numElt):\n",
    "    corr23 += (dataRow2[i] - mean2) * \\\n",
    "              (dataRow3[i] - mean3) / (np.sqrt(var2*var3) * numElt)\n",
    "    corr221 += (dataRow2[i] - mean2) * \\\n",
    "               (dataRow21[i] - mean21) / (np.sqrt(var2*var21) * numElt)\n",
    "sys.stdout.write(\"Correlation between attribute 10 and 12 \\n\")\n",
    "print(corr23)\n",
    "sys.stdout.write(\" \\n\")\n",
    "sys.stdout.write(\"Correlation between attribute 12 and 22 \\n\")\n",
    "print(corr221)\n",
    "sys.stdout.write(\" \\n\")\n"
   ]
  },
  {
   "cell_type": "code",
   "execution_count": 14,
   "metadata": {},
   "outputs": [
    {
     "data": {
      "image/png": "[encoded data removed]",
      "text/plain": [
       "<Figure size 432x288 with 1 Axes>"
      ]
     },
     "metadata": {
      "needs_background": "light"
     },
     "output_type": "display_data"
    },
    {
     "data": {
      "image/png": "[encoded data removed]",
      "text/plain": [
       "<Figure size 432x288 with 1 Axes>"
      ]
     },
     "metadata": {
      "needs_background": "light"
     },
     "output_type": "display_data"
    }
   ],
   "source": [
    "dataRow = data.iloc[0:2722,2]\n",
    "target = data['IN_ETF']\n",
    "plot.scatter(dataRow, target)\n",
    "plot.xlabel(\"Attribute Value\")\n",
    "plot.ylabel(\"Target Value\")\n",
    "plot.show()\n",
    "#\n",
    "#To improve the visualization, this version dithers the points a little\n",
    "# and makes them somewhat transparent\n",
    "dataRow = data.iloc[0:2722,5]\n",
    "plot.scatter(dataRow, target, alpha=0.5, s=120)\n",
    "plot.xlabel(\"Attribute Value\")\n",
    "plot.ylabel(\"Target Value\")\n",
    "plot.show()"
   ]
  },
  {
   "cell_type": "code",
   "execution_count": null,
   "metadata": {},
   "outputs": [],
   "source": []
  },
  {
   "cell_type": "code",
   "execution_count": null,
   "metadata": {},
   "outputs": [],
   "source": []
  },
  {
   "cell_type": "code",
   "execution_count": null,
   "metadata": {},
   "outputs": [],
   "source": []
  }
 ],
 "metadata": {
  "kernelspec": {
   "display_name": "Python 3",
   "language": "python",
   "name": "python3"
  },
  "language_info": {
   "codemirror_mode": {
    "name": "ipython",
    "version": 3
   },
   "file_extension": ".py",
   "mimetype": "text/x-python",
   "name": "python",
   "nbconvert_exporter": "python",
   "pygments_lexer": "ipython3",
   "version": "3.7.3"
  }
 },
 "nbformat": 4,
 "nbformat_minor": 2
}
